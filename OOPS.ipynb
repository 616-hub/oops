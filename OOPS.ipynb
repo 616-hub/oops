{
  "nbformat": 4,
  "nbformat_minor": 0,
  "metadata": {
    "colab": {
      "provenance": []
    },
    "kernelspec": {
      "name": "python3",
      "display_name": "Python 3"
    },
    "language_info": {
      "name": "python"
    }
  },
  "cells": [
    {
      "cell_type": "code",
      "execution_count": null,
      "metadata": {
        "id": "Ad9GA7fWKRrT"
      },
      "outputs": [],
      "source": [
        "# OOPS ASSIGNMENT"
      ]
    },
    {
      "cell_type": "markdown",
      "source": [
        "QUESTION1 What is Object-Oriented Programming (OOP)?\n",
        "\n",
        "OOP is a programming paradigm based on the concept of objects that encapsulate data and behavior. It allows code to be organized, reusable, and easier to maintain using principles like inheritance, encapsulation, abstraction, and polymorphism.\n",
        "\n",
        "QUESTION2 What is a class in OOP?\n",
        "\n",
        "A class is a blueprint or template for creating objects. It defines the properties (attributes) and behaviors (methods) that the objects created from the class will have.\n",
        "\n",
        "QUESTION3 What is an object in OOP?\n",
        "\n",
        "An object is an instance of a class. It represents a specific entity with data (attributes) and behavior (methods) defined by its class.\n",
        "\n",
        "QUESTION4 What is the difference between abstraction and encapsulation?\n",
        "\n",
        "Abstraction: Hides implementation details and shows only the essential features of an object (e.g., using abstract classes or interfaces).\n",
        "Encapsulation: Restricts access to an object's internal state and allows controlled access via methods or properties (e.g., private attributes with getter/setter methods).\n",
        "\n",
        "QUESTION5 What are dunder methods in Python?\n",
        "\n",
        "Dunder (double underscore) methods, also called magic methods, are special methods in Python with double underscores at the start and end (e.g., __init__, __str__). They enable customization of object behavior, such as initialization or string representation.\n",
        "\n",
        "QUESTION6 Explain the concept of inheritance in OOP.\n",
        "\n",
        "Inheritance allows a class (child) to inherit properties and behaviors from another class (parent). It promotes code reuse and enables the creation of hierarchical relationships.\n",
        "\n",
        "QUESTION7 What is polymorphism in OOP?\n",
        "\n",
        "Polymorphism allows objects to be treated as instances of their parent class or interface, enabling a single function or method to work with different types of objects.\n",
        "\n",
        "QUESTION8 How is encapsulation achieved in Python?\n",
        "\n",
        "Encapsulation is achieved by using private attributes (prefixing with _ or __) and providing controlled access through public methods like getters and setters.\n",
        "\n",
        "QUESTION9 What is a constructor in Python?\n",
        "\n",
        "A constructor is a special method (__init__) called automatically when an object is created. It initializes the object by setting initial values for its attributes.\n",
        "\n",
        "QUESTION10 What are class and static methods in Python?\n",
        "\n",
        "Class methods: Declared with @classmethod, they take cls as their first parameter and operate on the class rather than an instance.\n",
        "\n",
        "Static methods: Declared with @staticmethod, they don’t access or modify class/instance data and act like regular functions within a class.\n",
        "\n",
        "QUESTION11 What is method overloading in Python?\n",
        "\n",
        "Method overloading refers to defining multiple methods with the same name but different arguments. Python does not natively support it, but similar behavior can be achieved using default arguments or variable-length arguments (*args, **kwargs).\n",
        "\n",
        "QUESTION12 What is method overriding in OOP?\n",
        "\n",
        "Method overriding occurs when a subclass provides its own implementation of a method defined in its parent class. The subclass method replaces the parent class method when called on a subclass object.\n",
        "\n",
        "QUESTION13 What is a property decorator in Python?\n",
        "\n",
        "The @property decorator allows a method to be accessed like an attribute, enabling controlled access to instance attributes without explicitly calling a getter method.\n",
        "\n",
        "QUESTION14 Why is polymorphism important in OOP?\n",
        "\n",
        "Polymorphism improves flexibility and scalability by allowing a single interface to support objects of different types, enabling dynamic and interchangeable behavior.\n",
        "\n",
        "QUESTION15 What is an abstract class in Python?\n",
        "\n",
        "An abstract class is a class that cannot be instantiated and is meant to be subclassed. It can contain abstract methods (declared but not implemented) that must be overridden in derived classes. Python provides the ABC module for defining abstract classes.\n",
        "\n",
        "QUESTION16 What are the advantages of OOP?\n",
        "\n",
        "Code reusability via inheritance\n",
        "Modularity and scalability\n",
        "Easy maintenance and debugging\n",
        "Enhanced security through encapsulation\n",
        "Real-world modeling with objects\n",
        "\n",
        "QUESTION17 What is the difference between a class variable and an instance variable?\n",
        "\n",
        "Class variable: Shared among all instances of a class and defined at the class level.\n",
        "Instance variable: Unique to each instance and defined in the constructor or methods.\n",
        "\n",
        "QUESTION18 What is multiple inheritance in Python?\n",
        "\n",
        "Multiple inheritance allows a class to inherit from more than one parent class. This can lead to complexities like the diamond problem, but Python resolves it using the Method Resolution Order (MRO).\n",
        "\n",
        "QUESTION19 Explain the purpose of __str__ and __repr__ methods in Python.\n",
        "\n",
        "__str__: Returns a human-readable string representation of an object.\n",
        "__repr__: Returns an unambiguous string representation, typically used for debugging.\n",
        "\n",
        "QUESTION20 What is the significance of the super() function in Python?\n",
        "\n",
        "The super() function allows a subclass to call methods from its parent class. It's commonly used in constructors to initialize parent class attributes.\n",
        "\n",
        "QUESTION21 What is the significance of the __del__ method in Python?\n",
        "\n",
        "The __del__ method is a destructor that is called when an object is deleted or goes out of scope. It allows cleanup of resources, though explicit use is rare.\n",
        "\n",
        "QUESTION22 What is the difference between @staticmethod and @classmethod in Python?\n",
        "\n",
        "@staticmethod: No access to class or instance data.\n",
        "@classmethod: Operates on the class and receives cls as a parameter.\n",
        "\n",
        "QUESTION23 How does polymorphism work in Python with inheritance?\n",
        "\n",
        "Polymorphism in Python allows methods in derived classes to override those in base classes. Objects of different derived classes can use the same interface but implement behavior differently.\n",
        "\n",
        "QUESTION24What is method chaining in Python OOP?\n",
        "\n",
        "Method chaining is a programming technique where multiple methods are called on the same object in a single statement by returning self at the end of each method.\n",
        "\n",
        "QUESTION25 What is the purpose of the __call__ method in Python?\n",
        "\n",
        "The __call__ method allows an object to be called like a function. It can be used to define callable objects with custom behavior."
      ],
      "metadata": {
        "id": "4_-7KC9tKgJO"
      }
    },
    {
      "cell_type": "code",
      "source": [
        "# PRACTICAL QUESTIONS"
      ],
      "metadata": {
        "id": "pzVyRokdNKrp"
      },
      "execution_count": null,
      "outputs": []
    },
    {
      "cell_type": "code",
      "source": [
        "#1. Create a parent class Animal with a method speak() that prints a generic message. Create a child class Dog\n",
        "#that overrides the speak() method to print \"Bark!\".\n",
        "class Animal:\n",
        "    def speak(self):\n",
        "        print(\"This is a generic animal sound.\")\n",
        "\n",
        "class Dog(Animal):\n",
        "    def speak(self):\n",
        "        print(\"Bark!\")\n",
        "\n",
        "# Example usage\n",
        "dog = Dog()\n",
        "dog.speak()\n"
      ],
      "metadata": {
        "colab": {
          "base_uri": "https://localhost:8080/"
        },
        "id": "sP-PS9fRNbl4",
        "outputId": "814dccc4-8d1b-4d54-820d-4f221bbc1895"
      },
      "execution_count": 1,
      "outputs": [
        {
          "output_type": "stream",
          "name": "stdout",
          "text": [
            "Bark!\n"
          ]
        }
      ]
    },
    {
      "cell_type": "code",
      "source": [
        "#2. Write a program to create an abstract class Shape with a method area(). Derive classes Circle and Rectangle\n",
        "#from it and implement the area() method in both.\n",
        "from abc import ABC, abstractmethod\n",
        "import math\n",
        "\n",
        "class Shape(ABC):\n",
        "    @abstractmethod\n",
        "    def area(self):\n",
        "        pass\n",
        "\n",
        "class Circle(Shape):\n",
        "    def __init__(self, radius):\n",
        "        self.radius = radius\n",
        "\n",
        "    def area(self):\n",
        "        return math.pi * self.radius**2\n",
        "\n",
        "class Rectangle(Shape):\n",
        "    def __init__(self, width, height):\n",
        "        self.width = width\n",
        "        self.height = height\n",
        "\n",
        "    def area(self):\n",
        "        return self.width * self.height\n",
        "\n",
        "# Example usage\n",
        "circle = Circle(5)\n",
        "print(\"Circle area:\", circle.area())\n",
        "\n",
        "rectangle = Rectangle(4, 6)\n",
        "print(\"Rectangle area:\", rectangle.area())\n"
      ],
      "metadata": {
        "colab": {
          "base_uri": "https://localhost:8080/"
        },
        "id": "4O9S6mRKNmm_",
        "outputId": "9dc1794d-f234-47e6-a557-3a05b695e689"
      },
      "execution_count": 2,
      "outputs": [
        {
          "output_type": "stream",
          "name": "stdout",
          "text": [
            "Circle area: 78.53981633974483\n",
            "Rectangle area: 24\n"
          ]
        }
      ]
    },
    {
      "cell_type": "code",
      "source": [
        "#3. Implement a multi-level inheritance scenario where a class Vehicle has an attribute type. Derive a class Car\n",
        "#and further derive a class ElectricCar that adds a battery attribute.\n",
        "\n",
        "class Vehicle:\n",
        "    def __init__(self, vehicle_type):\n",
        "        self.type = vehicle_type\n",
        "\n",
        "class Car(Vehicle):\n",
        "    def __init__(self, vehicle_type, brand):\n",
        "        super().__init__(vehicle_type)\n",
        "        self.brand = brand\n",
        "\n",
        "class ElectricCar(Car):\n",
        "    def __init__(self, vehicle_type, brand, battery_capacity):\n",
        "        super().__init__(vehicle_type, brand)\n",
        "        self.battery_capacity = battery_capacity\n",
        "\n",
        "# Example usage\n",
        "tesla = ElectricCar(\"Electric\", \"Tesla\", \"100 kWh\")\n",
        "print(f\"Type: {tesla.type}, Brand: {tesla.brand}, Battery: {tesla.battery_capacity}\")"
      ],
      "metadata": {
        "colab": {
          "base_uri": "https://localhost:8080/"
        },
        "id": "Aa0f9jzmNmxJ",
        "outputId": "d845cf8f-f598-4bfa-83f4-a70519833954"
      },
      "execution_count": 3,
      "outputs": [
        {
          "output_type": "stream",
          "name": "stdout",
          "text": [
            "Type: Electric, Brand: Tesla, Battery: 100 kWh\n"
          ]
        }
      ]
    },
    {
      "cell_type": "code",
      "source": [
        "#4\n",
        "class BankAccount:\n",
        "    def __init__(self, balance=0):\n",
        "        self.__balance = balance\n",
        "\n",
        "    def deposit(self, amount):\n",
        "        if amount > 0:\n",
        "            self.__balance += amount\n",
        "\n",
        "    def withdraw(self, amount):\n",
        "        if 0 < amount <= self.__balance:\n",
        "            self.__balance -= amount\n",
        "\n",
        "    def check_balance(self):\n",
        "        return self.__balance\n",
        "\n",
        "# Example usage\n",
        "account = BankAccount()\n",
        "account.deposit(1000)\n",
        "account.withdraw(300)\n",
        "print(\"Balance:\", account.check_balance())\n"
      ],
      "metadata": {
        "colab": {
          "base_uri": "https://localhost:8080/"
        },
        "id": "rvmezFTbNm64",
        "outputId": "c86b2624-f899-4c82-c2c3-a35eab863ebb"
      },
      "execution_count": 4,
      "outputs": [
        {
          "output_type": "stream",
          "name": "stdout",
          "text": [
            "Balance: 700\n"
          ]
        }
      ]
    },
    {
      "cell_type": "code",
      "source": [
        "#5 Write a program to demonstrate encapsulation by creating a class BankAccount with private attributes\n",
        "#balance and methods to deposit, withdraw, and check balance.\n",
        "\n",
        "class Instrument:\n",
        "    def play(self):\n",
        "        print(\"Playing a generic instrument.\")\n",
        "\n",
        "class Guitar(Instrument):\n",
        "    def play(self):\n",
        "        print(\"Strumming the guitar!\")\n",
        "\n",
        "class Piano(Instrument):\n",
        "    def play(self):\n",
        "        print(\"Playing the piano!\")\n",
        "\n",
        "# Example usage\n",
        "instruments = [Guitar(), Piano()]\n",
        "for instrument in instruments:\n",
        "    instrument.play()\n"
      ],
      "metadata": {
        "colab": {
          "base_uri": "https://localhost:8080/"
        },
        "id": "j3x2DmKQNnC6",
        "outputId": "151afbbe-b6dd-4617-8925-e895c3be6ce3"
      },
      "execution_count": 5,
      "outputs": [
        {
          "output_type": "stream",
          "name": "stdout",
          "text": [
            "Strumming the guitar!\n",
            "Playing the piano!\n"
          ]
        }
      ]
    },
    {
      "cell_type": "code",
      "source": [
        "#6Demonstrate runtime polymorphism using a method play() in a base class Instrument. Derive classes Guitar\n",
        "#and Piano that implement their own version of play().\n",
        "\n",
        "class MathOperations:\n",
        "    @classmethod\n",
        "    def add_numbers(cls, a, b):\n",
        "        return a + b\n",
        "\n",
        "    @staticmethod\n",
        "    def subtract_numbers(a, b):\n",
        "        return a - b\n",
        "\n",
        "# Example usage\n",
        "print(\"Addition:\", MathOperations.add_numbers(5, 3))\n",
        "print(\"Subtraction:\", MathOperations.subtract_numbers(5, 3))\n"
      ],
      "metadata": {
        "colab": {
          "base_uri": "https://localhost:8080/"
        },
        "id": "GCU-uqDTNnIg",
        "outputId": "080bdb2d-837f-41b0-a901-10605a15dedc"
      },
      "execution_count": 6,
      "outputs": [
        {
          "output_type": "stream",
          "name": "stdout",
          "text": [
            "Addition: 8\n",
            "Subtraction: 2\n"
          ]
        }
      ]
    },
    {
      "cell_type": "code",
      "source": [
        "#7Create a class MathOperations with a class method add_numbers() to add two numbers and a static\n",
        "#method subtract_numbers() to subtract two numbers.\n",
        "\n",
        "class Person:\n",
        "    count = 0\n",
        "\n",
        "    def __init__(self):\n",
        "        Person.count += 1\n",
        "\n",
        "    @classmethod\n",
        "    def total_persons(cls):\n",
        "        return cls.count\n",
        "\n",
        "# Example usage\n",
        "p1 = Person()\n",
        "p2 = Person()\n",
        "print(\"Total Persons:\", Person.total_persons())\n"
      ],
      "metadata": {
        "colab": {
          "base_uri": "https://localhost:8080/"
        },
        "id": "HEUVs11LNnLX",
        "outputId": "fba57c37-3345-47c1-fae4-ebe2e8677e71"
      },
      "execution_count": 7,
      "outputs": [
        {
          "output_type": "stream",
          "name": "stdout",
          "text": [
            "Total Persons: 2\n"
          ]
        }
      ]
    },
    {
      "cell_type": "code",
      "source": [
        "#8 Implement a class Person with a class method to count the total number of persons created.\n",
        "\n",
        "class Fraction:\n",
        "    def __init__(self, numerator, denominator):\n",
        "        self.numerator = numerator\n",
        "        self.denominator = denominator\n",
        "\n",
        "    def __str__(self):\n",
        "        return f\"{self.numerator}/{self.denominator}\"\n",
        "\n",
        "# Example usage\n",
        "fraction = Fraction(3, 4)\n",
        "print(\"Fraction:\", fraction)\n"
      ],
      "metadata": {
        "colab": {
          "base_uri": "https://localhost:8080/"
        },
        "id": "-XRKJ3snNnOH",
        "outputId": "0f7ca3aa-526e-4a8f-d56b-843947bcee06"
      },
      "execution_count": 8,
      "outputs": [
        {
          "output_type": "stream",
          "name": "stdout",
          "text": [
            "Fraction: 3/4\n"
          ]
        }
      ]
    },
    {
      "cell_type": "code",
      "source": [
        "#9 Write a class Fraction with attributes numerator and denominator. Override the str method to display the\n",
        "#fraction as \"numerator/denominator\".\n",
        "\n",
        "class Vector:\n",
        "    def __init__(self, x, y):\n",
        "        self.x = x\n",
        "        self.y = y\n",
        "\n",
        "    def __add__(self, other):\n",
        "        return Vector(self.x + other.x, self.y + other.y)\n",
        "\n",
        "    def __str__(self):\n",
        "        return f\"Vector({self.x}, {self.y})\"\n",
        "\n",
        "# Example usage\n",
        "v1 = Vector(1, 2)\n",
        "v2 = Vector(3, 4)\n",
        "print(\"Sum:\", v1 + v2)\n"
      ],
      "metadata": {
        "colab": {
          "base_uri": "https://localhost:8080/"
        },
        "id": "PjyVx5HjNnQ6",
        "outputId": "d877c446-9804-4824-a6b8-31d531b636e1"
      },
      "execution_count": 9,
      "outputs": [
        {
          "output_type": "stream",
          "name": "stdout",
          "text": [
            "Sum: Vector(4, 6)\n"
          ]
        }
      ]
    },
    {
      "cell_type": "code",
      "source": [
        "#11  Create a class Person with attributes name and age. Add a method greet() that prints \"Hello, my name is\n",
        "{name} and I am {age} years old.\"\n",
        "\n",
        "class Person:\n",
        "    def __init__(self, name, age):\n",
        "        self.name = name\n",
        "        self.age = age\n",
        "\n",
        "    def greet(self):\n",
        "        print(f\"Hello, my name is {self.name} and I am {self.age} years old.\")\n",
        "\n",
        "# Example usage\n",
        "person = Person(\"John\", 25)\n",
        "person.greet()\n"
      ],
      "metadata": {
        "colab": {
          "base_uri": "https://localhost:8080/"
        },
        "id": "QsKOkrjSNnTq",
        "outputId": "be7e7907-5eef-403d-a009-b985b89918f0"
      },
      "execution_count": 10,
      "outputs": [
        {
          "output_type": "stream",
          "name": "stdout",
          "text": [
            "Hello, my name is John and I am 25 years old.\n"
          ]
        }
      ]
    },
    {
      "cell_type": "code",
      "source": [
        "#12 Implement a class Student with attributes name and grades. Create a method average_grade() to compute\n",
        "#the average of the grades.\n",
        "\n",
        "class Student:\n",
        "    def __init__(self, name, grades):\n",
        "        self.name = name\n",
        "        self.grades = grades\n",
        "\n",
        "    def average_grade(self):\n",
        "        return sum(self.grades) / len(self.grades)\n",
        "\n",
        "# Example usage\n",
        "student = Student(\"Alice\", [85, 90, 78])\n",
        "print(\"Average Grade:\", student.average_grade())\n"
      ],
      "metadata": {
        "colab": {
          "base_uri": "https://localhost:8080/"
        },
        "id": "dJ8sjY7yNnWl",
        "outputId": "a26e1220-a1b7-4c64-a670-420c95eaea2a"
      },
      "execution_count": 11,
      "outputs": [
        {
          "output_type": "stream",
          "name": "stdout",
          "text": [
            "Average Grade: 84.33333333333333\n"
          ]
        }
      ]
    },
    {
      "cell_type": "code",
      "source": [
        "#13 Create a class Rectangle with methods set_dimensions() to set the dimensions and area() to calculate the\n",
        "#area.\n",
        "\n",
        "class Rectangle:\n",
        "    def set_dimensions(self, width, height):\n",
        "        self.width = width\n",
        "        self.height = height\n",
        "\n",
        "    def area(self):\n",
        "        return self.width * self.height\n",
        "\n",
        "# Example usage\n",
        "rect = Rectangle()\n",
        "rect.set_dimensions(4, 5)\n",
        "print(\"Area:\", rect.area())\n"
      ],
      "metadata": {
        "colab": {
          "base_uri": "https://localhost:8080/"
        },
        "id": "2E-opOaoNnZf",
        "outputId": "581871bd-39e8-4df2-edef-b36781ff57b7"
      },
      "execution_count": 12,
      "outputs": [
        {
          "output_type": "stream",
          "name": "stdout",
          "text": [
            "Area: 20\n"
          ]
        }
      ]
    },
    {
      "cell_type": "code",
      "source": [
        "#14 Create a class Employee with a method calculate_salary() that computes the salary based on hours worked\n",
        "#and hourly rate. Create a derived class Manager that adds a bonus to the salary.\n",
        "\n",
        "class Employee:\n",
        "    def __init__(self, hours_worked, hourly_rate):\n",
        "        self.hours_worked = hours_worked\n",
        "        self.hourly_rate = hourly_rate\n",
        "\n",
        "    def calculate_salary(self):\n",
        "        return self.hours_worked * self.hourly_rate\n",
        "\n",
        "\n",
        "class Manager(Employee):\n",
        "    def __init__(self, hours_worked, hourly_rate, bonus):\n",
        "        super().__init__(hours_worked, hourly_rate)\n",
        "        self.bonus = bonus\n",
        "\n",
        "    def calculate_salary(self):\n",
        "        # Add the bonus to the regular salary calculation\n",
        "        return super().calculate_salary() + self.bonus\n",
        "\n",
        "\n",
        "# Example usage\n",
        "employee = Employee(40, 20)  # 40 hours worked at $20/hour\n",
        "print(\"Employee Salary:\", employee.calculate_salary())\n",
        "\n",
        "manager = Manager(40, 30, 1000)  # 40 hours at $30/hour plus $1000 bonus\n",
        "print(\"Manager Salary:\", manager.calculate_salary())\n"
      ],
      "metadata": {
        "colab": {
          "base_uri": "https://localhost:8080/"
        },
        "id": "07QM-OW3NnfV",
        "outputId": "6d5e3cac-a5a7-4d81-9c2d-35361145fd49"
      },
      "execution_count": 14,
      "outputs": [
        {
          "output_type": "stream",
          "name": "stdout",
          "text": [
            "Employee Salary: 800\n",
            "Manager Salary: 2200\n"
          ]
        }
      ]
    },
    {
      "cell_type": "code",
      "source": [
        "#15 Create a class Product with attributes name, price, and quantity. Implement a method total_price() that\n",
        "#calculates the total price of the product.\n",
        "\n",
        "class Product:\n",
        "    def __init__(self, name, price, quantity):\n",
        "        self.name = name\n",
        "        self.price = price\n",
        "        self.quantity = quantity\n",
        "\n",
        "    def total_price(self):\n",
        "        return self.price * self.quantity\n",
        "\n",
        "# Example usage\n",
        "product = Product(\"Laptop\", 1000, 2)\n",
        "print(f\"Total price of {product.name}: ${product.total_price()}\")\n"
      ],
      "metadata": {
        "colab": {
          "base_uri": "https://localhost:8080/"
        },
        "id": "v_iwBrRwNniG",
        "outputId": "4079b43a-cf95-4270-c578-d3f9acf14624"
      },
      "execution_count": 15,
      "outputs": [
        {
          "output_type": "stream",
          "name": "stdout",
          "text": [
            "Total price of Laptop: $2000\n"
          ]
        }
      ]
    },
    {
      "cell_type": "code",
      "source": [
        "#16 Create a class Animal with an abstract method sound(). Create two derived classes Cow and Sheep that\n",
        "#implement the sound() method.\n",
        "\n",
        "from abc import ABC, abstractmethod\n",
        "\n",
        "class Animal(ABC):\n",
        "    @abstractmethod\n",
        "    def sound(self):\n",
        "        pass\n",
        "\n",
        "class Cow(Animal):\n",
        "    def sound(self):\n",
        "        return \"Moo\"\n",
        "\n",
        "class Sheep(Animal):\n",
        "    def sound(self):\n",
        "        return \"Baa\"\n",
        "\n",
        "# Example usage\n",
        "cow = Cow()\n",
        "sheep = Sheep()\n",
        "print(\"Cow sound:\", cow.sound())\n",
        "print(\"Sheep sound:\", sheep.sound())\n"
      ],
      "metadata": {
        "colab": {
          "base_uri": "https://localhost:8080/"
        },
        "id": "IIt9pzK6Nnlh",
        "outputId": "2d174850-9c29-4161-871e-a8ed1ce36de8"
      },
      "execution_count": 16,
      "outputs": [
        {
          "output_type": "stream",
          "name": "stdout",
          "text": [
            "Cow sound: Moo\n",
            "Sheep sound: Baa\n"
          ]
        }
      ]
    },
    {
      "cell_type": "code",
      "source": [
        "#17  Create a class Book with attributes title, author, and year_published. Add a method get_book_info() that\n",
        "#returns a formatted string with the book's details.\n",
        "\n",
        "class Book:\n",
        "    def __init__(self, title, author, year_published):\n",
        "        self.title = title\n",
        "        self.author = author\n",
        "        self.year_published = year_published\n",
        "\n",
        "    def get_book_info(self):\n",
        "        return f\"'{self.title}' by {self.author}, published in {self.year_published}\"\n",
        "\n",
        "# Example usage\n",
        "book = Book(\"1984\", \"George Orwell\", 1949)\n",
        "print(\"Book Info:\", book.get_book_info())\n"
      ],
      "metadata": {
        "colab": {
          "base_uri": "https://localhost:8080/"
        },
        "id": "4tvPDZHsNnw4",
        "outputId": "77226ceb-fe66-4b65-9b0a-b521c57b1102"
      },
      "execution_count": 17,
      "outputs": [
        {
          "output_type": "stream",
          "name": "stdout",
          "text": [
            "Book Info: '1984' by George Orwell, published in 1949\n"
          ]
        }
      ]
    },
    {
      "cell_type": "code",
      "source": [
        "#18 Create a class House with attributes address and price. Create a derived class Mansion that adds an\n",
        "#attribute number_of_rooms.\n",
        "\n",
        "class House:\n",
        "    def __init__(self, address, price):\n",
        "        self.address = address\n",
        "        self.price = price\n",
        "\n",
        "class Mansion(House):\n",
        "    def __init__(self, address, price, number_of_rooms):\n",
        "        super().__init__(address, price)\n",
        "        self.number_of_rooms = number_of_rooms\n",
        "\n",
        "# Example usage\n",
        "mansion = Mansion(\"123 Luxury Ave\", 5000000, 15)\n",
        "print(f\"Address: {mansion.address}, Price: ${mansion.price}, Rooms: {mansion.number_of_rooms}\")\n"
      ],
      "metadata": {
        "colab": {
          "base_uri": "https://localhost:8080/"
        },
        "id": "ssmFw-f1O5B_",
        "outputId": "2ae2284f-ef42-4a7e-f77f-63fa19ebd478"
      },
      "execution_count": 18,
      "outputs": [
        {
          "output_type": "stream",
          "name": "stdout",
          "text": [
            "Address: 123 Luxury Ave, Price: $5000000, Rooms: 15\n"
          ]
        }
      ]
    }
  ]
}